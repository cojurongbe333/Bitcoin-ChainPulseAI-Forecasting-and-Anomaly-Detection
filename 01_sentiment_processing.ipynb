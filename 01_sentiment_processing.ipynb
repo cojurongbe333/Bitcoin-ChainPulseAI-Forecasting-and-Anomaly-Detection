
{
 "cells": [
  {
   "cell_type": "markdown",
   "metadata": {},
   "source": [
    "# 🧠 Tweet Sentiment Preprocessing\n",
    "## Step 1: Preprocess Tweets → Sentiment Scores → Daily Averages"
   ]
  },
  {
   "cell_type": "code",
   "execution_count": null,
   "metadata": {},
   "outputs": [],
   "source": [
    "# Install required libraries\n",
    "!pip install pandas nltk"
   ]
  },
  {
   "cell_type": "code",
   "execution_count": null,
   "metadata": {},
   "outputs": [],
   "source": [
    "# Import libraries\n",
    "import pandas as pd\n",
    "import nltk\n",
    "from nltk.sentiment.vader import SentimentIntensityAnalyzer\n",
    "nltk.download('vader_lexicon')"
   ]
  },
  {
   "cell_type": "code",
   "execution_count": null,
   "metadata": {},
   "outputs": [],
   "source": [
    "# Load raw tweets\n",
    "# Expected format: timestamp, tweet_text\n",
    "df = pd.read_csv('../data/raw_tweets.csv', parse_dates=['timestamp'])\n",
    "df.head()"
   ]
  },
  {
   "cell_type": "code",
   "execution_count": null,
   "metadata": {},
   "outputs": [],
   "source": [
    "# Apply VADER sentiment\n",
    "sia = SentimentIntensityAnalyzer()\n",
    "df['sentiment'] = df['tweet_text'].apply(lambda x: sia.polarity_scores(x)['compound'])\n",
    "df['date'] = df['timestamp'].dt.date\n",
    "df.head()"
   ]
  },
  {
   "cell_type": "code",
   "execution_count": null,
   "metadata": {},
   "outputs": [],
   "source": [
    "# Daily average sentiment\n",
    "daily_sentiment = df.groupby('date')['sentiment'].mean().reset_index()\n",
    "daily_sentiment.columns = ['date', 'avg_sentiment']\n",
    "daily_sentiment.to_csv('../data/processed_tweets.csv', index=False)\n",
    "daily_sentiment.head()"
   ]
  }
 ],
 "metadata": {
  "kernelspec": {
   "display_name": "Python 3",
   "language": "python",
   "name": "python3"
  },
  "language_info": {
   "name": "python",
   "version": "3.8"
  }
 },
 "nbformat": 4,
 "nbformat_minor": 4
}
