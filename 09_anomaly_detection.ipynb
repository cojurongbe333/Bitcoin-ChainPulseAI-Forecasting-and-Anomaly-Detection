{
 "cells": [
  {
   "cell_type": "markdown",
   "id": "5f795204",
   "metadata": {},
   "source": [
    "# 🚨 Anomaly Detection\n",
    "Detect outliers in crypto sentiment, volume, and price volatility"
   ]
  },
  {
   "cell_type": "code",
   "execution_count": null,
   "id": "c093b9f4",
   "metadata": {},
   "outputs": [],
   "source": [
    "!pip install pandas scikit-learn matplotlib seaborn\n"
   ]
  },
  {
   "cell_type": "code",
   "execution_count": null,
   "id": "bce6cd0c",
   "metadata": {},
   "outputs": [],
   "source": [
    "import pandas as pd\n",
    "import matplotlib.pyplot as plt\n",
    "import seaborn as sns\n",
    "\n",
    "# Load enhanced data\n",
    "df = pd.read_csv('../data/labeled_events_enhanced.csv', parse_dates=['date'])\n",
    "df_btc = df[df['token'] == 'BTC'].copy().sort_values('date')\n",
    "\n",
    "df_btc = df_btc[['date', 'avg_sentiment', 'volume', 'volatility']].dropna().reset_index(drop=True)\n",
    "df_btc.head()\n"
   ]
  },
  {
   "cell_type": "code",
   "execution_count": null,
   "id": "ffd0cbf9",
   "metadata": {},
   "outputs": [],
   "source": [
    "from sklearn.ensemble import IsolationForest\n",
    "\n",
    "model = IsolationForest(contamination=0.1, random_state=42)\n",
    "df_btc['anomaly_score'] = model.fit_predict(df_btc[['avg_sentiment', 'volume', 'volatility']])\n",
    "df_btc['anomaly'] = df_btc['anomaly_score'] == -1\n",
    "df_btc.head()\n"
   ]
  },
  {
   "cell_type": "code",
   "execution_count": null,
   "id": "8cd996b9",
   "metadata": {},
   "outputs": [],
   "source": [
    "plt.figure(figsize=(12, 5))\n",
    "sns.lineplot(data=df_btc, x='date', y='volatility', label='Volatility')\n",
    "sns.scatterplot(data=df_btc[df_btc['anomaly']], x='date', y='volatility', color='red', label='Anomalies')\n",
    "plt.title(\"BTC Volatility with Anomaly Detection\")\n",
    "plt.xticks(rotation=45)\n",
    "plt.tight_layout()\n",
    "plt.show()\n"
   ]
  }
 ],
 "metadata": {},
 "nbformat": 4,
 "nbformat_minor": 5
}
