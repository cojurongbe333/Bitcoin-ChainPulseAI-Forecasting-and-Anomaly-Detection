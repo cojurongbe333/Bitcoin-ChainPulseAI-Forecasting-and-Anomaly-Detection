
{
 "cells": [
  {
   "cell_type": "markdown",
   "metadata": {},
   "source": [
    "# 🔗 On-Chain Transaction Analysis\n",
    "## Step 2: Analyze On-Chain Tx Data → Spike Detection, Whale/Bot Patterns"
   ]
  },
  {
   "cell_type": "code",
   "execution_count": null,
   "metadata": {},
   "outputs": [],
   "source": [
    "import pandas as pd\n",
    "import matplotlib.pyplot as plt\n",
    "import seaborn as sns\n",
    "from datetime import datetime\n",
    "sns.set(style='whitegrid')"
   ]
  },
  {
   "cell_type": "code",
   "execution_count": null,
   "metadata": {},
   "outputs": [],
   "source": [
    "# Load on-chain transaction data\n",
    "df = pd.read_csv('../data/onchain_tx.csv', parse_dates=['timestamp'])\n",
    "df['date'] = df['timestamp'].dt.date\n",
    "df.head()"
   ]
  },
  {
   "cell_type": "code",
   "execution_count": null,
   "metadata": {},
   "outputs": [],
   "source": [
    "# Aggregate transaction volume per day per token\n",
    "daily_volume = df.groupby(['date', 'token'])['amount'].sum().reset_index()\n",
    "daily_volume.head()"
   ]
  },
  {
   "cell_type": "code",
   "execution_count": null,
   "metadata": {},
   "outputs": [],
   "source": [
    "# Detect spikes using rolling z-score threshold\n",
    "daily_volume['rolling_mean'] = daily_volume.groupby('token')['amount'].transform(lambda x: x.rolling(3, min_periods=1).mean())\n",
    "daily_volume['rolling_std'] = daily_volume.groupby('token')['amount'].transform(lambda x: x.rolling(3, min_periods=1).std())\n",
    "daily_volume['z_score'] = (daily_volume['amount'] - daily_volume['rolling_mean']) / daily_volume['rolling_std']\n",
    "daily_volume['spike'] = daily_volume['z_score'] > 2.0  # threshold for spike\n",
    "daily_volume.head()"
   ]
  },
  {
   "cell_type": "code",
   "execution_count": null,
   "metadata": {},
   "outputs": [],
   "source": [
    "# Whale detection: Large single transactions\n",
    "whale_threshold = 5000  # adjustable\n",
    "df['whale_tx'] = df['amount'] > whale_threshold\n",
    "whale_tx = df[df['whale_tx']]\n",
    "whale_tx.head()"
   ]
  },
  {
   "cell_type": "code",
   "execution_count": null,
   "metadata": {},
   "outputs": [],
   "source": [
    "# Plot sample token volume with spikes\n",
    "sample_token = 'ETH'\n",
    "token_df = daily_volume[daily_volume['token'] == sample_token]\n",
    "plt.figure(figsize=(10, 4))\n",
    "sns.lineplot(data=token_df, x='date', y='amount', label='Volume')\n",
    "sns.scatterplot(data=token_df[token_df['spike']], x='date', y='amount', color='red', label='Spikes')\n",
    "plt.title(f'{sample_token} Volume & Spikes')\n",
    "plt.xticks(rotation=45)\n",
    "plt.tight_layout()\n",
    "plt.show()"
   ]
  }
 ],
 "metadata": {
  "kernelspec": {
   "display_name": "Python 3",
   "language": "python",
   "name": "python3"
  },
  "language_info": {
   "name": "python",
   "version": "3.8"
  }
 },
 "nbformat": 4,
 "nbformat_minor": 4
}
