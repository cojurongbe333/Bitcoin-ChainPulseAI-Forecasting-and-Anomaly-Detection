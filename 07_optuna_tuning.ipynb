{
 "cells": [
  {
   "cell_type": "markdown",
   "id": "d855a548",
   "metadata": {},
   "source": [
    "# 🔍 Hyperparameter Tuning with Optuna\n",
    "Optimize LightGBM model on engineered features"
   ]
  },
  {
   "cell_type": "code",
   "execution_count": null,
   "id": "a13be4b9",
   "metadata": {},
   "outputs": [],
   "source": [
    "!pip install optuna lightgbm pandas scikit-learn\n"
   ]
  },
  {
   "cell_type": "code",
   "execution_count": null,
   "id": "cd316aa4",
   "metadata": {},
   "outputs": [],
   "source": [
    "import pandas as pd\n",
    "from sklearn.model_selection import train_test_split\n",
    "from sklearn.metrics import accuracy_score\n",
    "import optuna\n",
    "from lightgbm import LGBMClassifier\n",
    "\n",
    "# Load data\n",
    "df = pd.read_csv('../data/labeled_events_enhanced.csv', parse_dates=['date'])\n",
    "df = df[df['event_label'] != 'neutral']\n",
    "df['event_label'] = df['event_label'].astype('category')\n",
    "df['target'] = df['event_label'].cat.codes\n",
    "\n",
    "features = [\n",
    "    'open', 'close', 'high', 'low', 'volume', 'avg_sentiment', 'tx_spike',\n",
    "    'daily_return', 'volatility', 'sentiment_volatility', 'tweet_count',\n",
    "    'whale_tx_count', 'bot_tx_flag', 'rsi', 'bollinger_upper',\n",
    "    'bollinger_lower', 'daily_return_lag1', 'volume_lag1', 'avg_sentiment_lag1'\n",
    "]\n",
    "\n",
    "X = df[features]\n",
    "y = df['target']\n",
    "\n",
    "X_train, X_test, y_train, y_test = train_test_split(X, y, stratify=y, test_size=0.2, random_state=42)\n"
   ]
  },
  {
   "cell_type": "code",
   "execution_count": null,
   "id": "967f6797",
   "metadata": {},
   "outputs": [],
   "source": [
    "def objective(trial):\n",
    "    params = {\n",
    "        'learning_rate': trial.suggest_float('learning_rate', 0.001, 0.3),\n",
    "        'n_estimators': trial.suggest_int('n_estimators', 50, 300),\n",
    "        'max_depth': trial.suggest_int('max_depth', 3, 12),\n",
    "        'num_leaves': trial.suggest_int('num_leaves', 20, 300),\n",
    "        'subsample': trial.suggest_float('subsample', 0.5, 1.0),\n",
    "        'colsample_bytree': trial.suggest_float('colsample_bytree', 0.5, 1.0),\n",
    "        'random_state': 42\n",
    "    }\n",
    "    model = LGBMClassifier(**params)\n",
    "    model.fit(X_train, y_train)\n",
    "    preds = model.predict(X_test)\n",
    "    return accuracy_score(y_test, preds)\n",
    "\n",
    "study = optuna.create_study(direction='maximize')\n",
    "study.optimize(objective, n_trials=30)\n"
   ]
  },
  {
   "cell_type": "code",
   "execution_count": null,
   "id": "0c3785ae",
   "metadata": {},
   "outputs": [],
   "source": [
    "print(\"Best trial:\")\n",
    "print(study.best_trial)\n"
   ]
  }
 ],
 "metadata": {},
 "nbformat": 4,
 "nbformat_minor": 5
}
