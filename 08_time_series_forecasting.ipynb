{
 "cells": [
  {
   "cell_type": "markdown",
   "id": "471b267f",
   "metadata": {},
   "source": [
    "# 🔮 Time-Series Forecasting\n",
    "## Prophet & LSTM for Next-Day Price Prediction"
   ]
  },
  {
   "cell_type": "code",
   "execution_count": null,
   "id": "7c3cddfb",
   "metadata": {},
   "outputs": [],
   "source": [
    "!pip install pandas matplotlib prophet tensorflow scikit-learn\n"
   ]
  },
  {
   "cell_type": "code",
   "execution_count": null,
   "id": "44fe4d7f",
   "metadata": {},
   "outputs": [],
   "source": [
    "import pandas as pd\n",
    "import matplotlib.pyplot as plt\n",
    "\n",
    "# Load data\n",
    "df = pd.read_csv('../data/labeled_events_enhanced.csv', parse_dates=['date'])\n",
    "btc = df[df['token'] == 'BTC'].sort_values('date')[['date', 'close']].rename(columns={'date': 'ds', 'close': 'y'})\n",
    "btc.head()\n"
   ]
  },
  {
   "cell_type": "code",
   "execution_count": null,
   "id": "d23381b4",
   "metadata": {},
   "outputs": [],
   "source": [
    "from prophet import Prophet\n",
    "\n",
    "prophet = Prophet()\n",
    "prophet.fit(btc)\n",
    "\n",
    "future = prophet.make_future_dataframe(periods=7)\n",
    "forecast = prophet.predict(future)\n",
    "\n",
    "fig1 = prophet.plot(forecast)\n",
    "plt.title(\"Bitcoin Price Forecast (Prophet)\")\n",
    "plt.show()\n"
   ]
  },
  {
   "cell_type": "code",
   "execution_count": null,
   "id": "8ce1346b",
   "metadata": {},
   "outputs": [],
   "source": [
    "import numpy as np\n",
    "from sklearn.preprocessing import MinMaxScaler\n",
    "from tensorflow.keras.models import Sequential\n",
    "from tensorflow.keras.layers import LSTM, Dense\n",
    "\n",
    "# Normalize\n",
    "scaler = MinMaxScaler()\n",
    "scaled = scaler.fit_transform(btc['y'].values.reshape(-1, 1))\n",
    "\n",
    "# Prepare sequences\n",
    "window_size = 5\n",
    "X, y = [], []\n",
    "for i in range(len(scaled) - window_size):\n",
    "    X.append(scaled[i:i+window_size])\n",
    "    y.append(scaled[i+window_size])\n",
    "X, y = np.array(X), np.array(y)\n",
    "\n",
    "# Train/test split\n",
    "split = int(len(X) * 0.8)\n",
    "X_train, X_test = X[:split], X[split:]\n",
    "y_train, y_test = y[:split], y[split:]\n",
    "\n",
    "# LSTM model\n",
    "model = Sequential()\n",
    "model.add(LSTM(50, activation='relu', input_shape=(window_size, 1)))\n",
    "model.add(Dense(1))\n",
    "model.compile(optimizer='adam', loss='mse')\n",
    "\n",
    "model.fit(X_train, y_train, epochs=20, verbose=0)\n",
    "preds = model.predict(X_test)\n",
    "\n",
    "# Plot\n",
    "plt.plot(scaler.inverse_transform(y_test.reshape(-1,1)), label='Actual')\n",
    "plt.plot(scaler.inverse_transform(preds), label='LSTM Forecast')\n",
    "plt.legend()\n",
    "plt.title(\"Bitcoin Price Forecast (LSTM)\")\n",
    "plt.show()\n"
   ]
  }
 ],
 "metadata": {},
 "nbformat": 4,
 "nbformat_minor": 5
}
