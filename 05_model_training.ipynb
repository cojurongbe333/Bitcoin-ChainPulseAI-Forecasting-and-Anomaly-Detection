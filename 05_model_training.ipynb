{
 "cells": [
  {
   "cell_type": "markdown",
   "id": "eaea3e3f",
   "metadata": {},
   "source": [
    "# 🧠 Risk Score Modeling\n",
    "## Step 5: Build Classifier or Regressor for Event Prediction"
   ]
  },
  {
   "cell_type": "code",
   "execution_count": null,
   "id": "6a6f73c5",
   "metadata": {},
   "outputs": [],
   "source": [
    "!pip install pandas scikit-learn shap matplotlib"
   ]
  },
  {
   "cell_type": "code",
   "execution_count": null,
   "id": "283e16c2",
   "metadata": {},
   "outputs": [],
   "source": [
    "import pandas as pd\n",
    "from sklearn.ensemble import RandomForestClassifier\n",
    "from sklearn.model_selection import train_test_split\n",
    "from sklearn.metrics import classification_report\n",
    "import shap\n",
    "import matplotlib.pyplot as plt"
   ]
  },
  {
   "cell_type": "code",
   "execution_count": null,
   "id": "072450c5",
   "metadata": {},
   "outputs": [],
   "source": [
    "df = pd.read_csv('labeled_events.csv', parse_dates=['date'])\n",
    "df = df[df['event_label'] != 'neutral']\n",
    "df['event_label'] = df['event_label'].astype('category')\n",
    "df['target'] = df['event_label'].cat.codes\n",
    "df.head()"
   ]
  },
  {
   "cell_type": "code",
   "execution_count": null,
   "id": "d2df9a2f",
   "metadata": {},
   "outputs": [],
   "source": [
    "features = ['open', 'close', 'high', 'low', 'volume', 'avg_sentiment', 'tx_spike', 'daily_return', 'volatility']\n",
    "X = df[features]\n",
    "y = df['target']\n",
    "X_train, X_test, y_train, y_test = train_test_split(X, y, stratify=y, test_size=0.2, random_state=42)"
   ]
  },
  {
   "cell_type": "code",
   "execution_count": null,
   "id": "3a189f5a",
   "metadata": {},
   "outputs": [],
   "source": [
    "clf = RandomForestClassifier(n_estimators=100, random_state=42)\n",
    "clf.fit(X_train, y_train)\n",
    "y_pred = clf.predict(X_test)\n",
    "print(classification_report(y_test, y_pred))"
   ]
  },
  {
   "cell_type": "code",
   "execution_count": null,
   "id": "988ab1b1",
   "metadata": {},
   "outputs": [],
   "source": [
    "import joblib\n",
    "joblib.dump(clf, 'risk_model.pkl')"
   ]
  },
  {
   "cell_type": "code",
   "execution_count": null,
   "id": "ad456a5c",
   "metadata": {},
   "outputs": [],
   "source": [
    "explainer = shap.Explainer(clf, X_train)\n",
    "shap_values = explainer(X_test)\n",
    "shap.summary_plot(shap_values, X_test, plot_type=\"bar\")"
   ]
  }
 ],
 "metadata": {},
 "nbformat": 4,
 "nbformat_minor": 5
}
