
{
 "cells": [
  {
   "cell_type": "markdown",
   "metadata": {},
   "source": [
    "# 📉 Market Volatility & Candlestick Patterns\n",
    "## Step 3: Merge with Price/Volume → Volatility, Candle Patterns"
   ]
  },
  {
   "cell_type": "code",
   "execution_count": null,
   "metadata": {},
   "outputs": [],
   "source": [
    "import pandas as pd\n",
    "import matplotlib.pyplot as plt\n",
    "import seaborn as sns\n",
    "sns.set(style='darkgrid')"
   ]
  },
  {
   "cell_type": "code",
   "execution_count": null,
   "metadata": {},
   "outputs": [],
   "source": [
    "# Load merged data\n",
    "df = pd.read_csv('../data/merged_market_data.csv', parse_dates=['date'])\n",
    "df.sort_values(by=['token', 'date'], inplace=True)\n",
    "df.head()"
   ]
  },
  {
   "cell_type": "code",
   "execution_count": null,
   "metadata": {},
   "outputs": [],
   "source": [
    "# Calculate daily return and volatility\n",
    "df['daily_return'] = (df['close'] - df['open']) / df['open']\n",
    "df['volatility'] = (df['high'] - df['low']) / df['open']\n",
    "df.head()"
   ]
  },
  {
   "cell_type": "code",
   "execution_count": null,
   "metadata": {},
   "outputs": [],
   "source": [
    "# Identify simple candlestick patterns\n",
    "df['bullish_engulfing'] = (df['open'] > df['close']) & (df['close'].shift(1) < df['open'].shift(1)) & (df['close'] > df['open'].shift(1))\n",
    "df['bearish_engulfing'] = (df['open'] < df['close']) & (df['close'].shift(1) > df['open'].shift(1)) & (df['close'] < df['open'].shift(1))\n",
    "df[['token', 'date', 'bullish_engulfing', 'bearish_engulfing']].head(10)"
   ]
  },
  {
   "cell_type": "code",
   "execution_count": null,
   "metadata": {},
   "outputs": [],
   "source": [
    "# Visualize volatility vs sentiment for a sample token\n",
    "sample_token = 'BTC'\n",
    "token_df = df[df['token'] == sample_token]\n",
    "plt.figure(figsize=(10, 4))\n",
    "sns.lineplot(data=token_df, x='date', y='volatility', label='Volatility')\n",
    "sns.lineplot(data=token_df, x='date', y='avg_sentiment', label='Sentiment')\n",
    "plt.title(f'{sample_token}: Volatility vs Sentiment')\n",
    "plt.xticks(rotation=45)\n",
    "plt.tight_layout()\n",
    "plt.show()"
   ]
  }
 ],
 "metadata": {
  "kernelspec": {
   "display_name": "Python 3",
   "language": "python",
   "name": "python3"
  },
  "language_info": {
   "name": "python",
   "version": "3.8"
  }
 },
 "nbformat": 4,
 "nbformat_minor": 4
}
