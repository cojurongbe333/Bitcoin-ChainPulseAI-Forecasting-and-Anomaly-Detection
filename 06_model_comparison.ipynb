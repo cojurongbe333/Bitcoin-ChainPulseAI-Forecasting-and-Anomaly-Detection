{
 "cells": [
  {
   "cell_type": "markdown",
   "id": "820b44b4",
   "metadata": {},
   "source": [
    "# 🧠 Advanced Model Training\n",
    "Compare XGBoost, LightGBM, and CatBoost using engineered features"
   ]
  },
  {
   "cell_type": "code",
   "execution_count": null,
   "id": "143429d0",
   "metadata": {},
   "outputs": [],
   "source": [
    "!pip install xgboost lightgbm catboost scikit-learn pandas matplotlib shap\n"
   ]
  },
  {
   "cell_type": "code",
   "execution_count": null,
   "id": "ce1e68c8",
   "metadata": {},
   "outputs": [],
   "source": [
    "import pandas as pd\n",
    "from sklearn.model_selection import train_test_split\n",
    "from sklearn.metrics import classification_report\n",
    "from xgboost import XGBClassifier\n",
    "from lightgbm import LGBMClassifier\n",
    "from catboost import CatBoostClassifier\n",
    "import shap\n"
   ]
  },
  {
   "cell_type": "code",
   "execution_count": null,
   "id": "f6dd8d8c",
   "metadata": {},
   "outputs": [],
   "source": [
    "# Load enhanced dataset\n",
    "df = pd.read_csv('../data/labeled_events_enhanced.csv', parse_dates=['date'])\n",
    "df = df[df['event_label'] != 'neutral']\n",
    "df['event_label'] = df['event_label'].astype('category')\n",
    "df['target'] = df['event_label'].cat.codes\n"
   ]
  },
  {
   "cell_type": "code",
   "execution_count": null,
   "id": "71d47560",
   "metadata": {},
   "outputs": [],
   "source": [
    "# Feature selection\n",
    "features = [\n",
    "    'open', 'close', 'high', 'low', 'volume', 'avg_sentiment', 'tx_spike',\n",
    "    'daily_return', 'volatility', 'sentiment_volatility', 'tweet_count',\n",
    "    'whale_tx_count', 'bot_tx_flag', 'rsi', 'bollinger_upper',\n",
    "    'bollinger_lower', 'daily_return_lag1', 'volume_lag1', 'avg_sentiment_lag1'\n",
    "]\n",
    "\n",
    "X = df[features]\n",
    "y = df['target']\n",
    "\n",
    "X_train, X_test, y_train, y_test = train_test_split(X, y, stratify=y, test_size=0.2, random_state=42)\n"
   ]
  },
  {
   "cell_type": "code",
   "execution_count": null,
   "id": "a5b945f2",
   "metadata": {},
   "outputs": [],
   "source": [
    "# Train XGBoost\n",
    "xgb_model = XGBClassifier(use_label_encoder=False, eval_metric='mlogloss', random_state=42)\n",
    "xgb_model.fit(X_train, y_train)\n",
    "xgb_pred = xgb_model.predict(X_test)\n",
    "print(\"XGBoost Report:\\n\", classification_report(y_test, xgb_pred))\n"
   ]
  },
  {
   "cell_type": "code",
   "execution_count": null,
   "id": "5586988b",
   "metadata": {},
   "outputs": [],
   "source": [
    "# Train LightGBM\n",
    "lgb_model = LGBMClassifier(random_state=42)\n",
    "lgb_model.fit(X_train, y_train)\n",
    "lgb_pred = lgb_model.predict(X_test)\n",
    "print(\"LightGBM Report:\\n\", classification_report(y_test, lgb_pred))\n"
   ]
  },
  {
   "cell_type": "code",
   "execution_count": null,
   "id": "b42f3314",
   "metadata": {},
   "outputs": [],
   "source": [
    "# Train CatBoost\n",
    "cat_model = CatBoostClassifier(verbose=0, random_state=42)\n",
    "cat_model.fit(X_train, y_train)\n",
    "cat_pred = cat_model.predict(X_test)\n",
    "print(\"CatBoost Report:\\n\", classification_report(y_test, cat_pred))\n"
   ]
  },
  {
   "cell_type": "code",
   "execution_count": null,
   "id": "df12258e",
   "metadata": {},
   "outputs": [],
   "source": [
    "# SHAP for best model using CatBoost for an example)\n",
    "explainer = shap.Explainer(cat_model, X_train)\n",
    "shap_values = explainer(X_test)\n",
    "shap.summary_plot(shap_values, X_test, plot_type=\"bar\")\n"
   ]
  }
 ],
 "metadata": {},
 "nbformat": 4,
 "nbformat_minor": 5
}
